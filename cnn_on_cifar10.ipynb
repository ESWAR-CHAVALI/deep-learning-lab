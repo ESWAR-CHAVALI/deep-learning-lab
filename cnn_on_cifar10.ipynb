{
  "nbformat": 4,
  "nbformat_minor": 0,
  "metadata": {
    "colab": {
      "provenance": [],
      "include_colab_link": true
    },
    "kernelspec": {
      "name": "python3",
      "display_name": "Python 3"
    },
    "language_info": {
      "name": "python"
    }
  },
  "cells": [
    {
      "cell_type": "markdown",
      "metadata": {
        "id": "view-in-github",
        "colab_type": "text"
      },
      "source": [
        "<a href=\"https://colab.research.google.com/github/ESWAR-CHAVALI/deep-learning-lab/blob/main/cnn_on_cifar10.ipynb\" target=\"_parent\"><img src=\"https://colab.research.google.com/assets/colab-badge.svg\" alt=\"Open In Colab\"/></a>"
      ]
    },
    {
      "cell_type": "code",
      "execution_count": null,
      "metadata": {
        "id": "Lo0qg7lpGe8V"
      },
      "outputs": [],
      "source": [
        "import matplotlib.pyplot as plt\n",
        "import numpy as np\n",
        "import tensorflow as tf\n",
        "from tensorflow.keras import layers,models,datasets\n",
        "from sklearn.metrics import classification_report"
      ]
    },
    {
      "cell_type": "code",
      "source": [
        "(xtrain,ytrain),(xtest,ytest)=datasets.cifar10.load_data()"
      ],
      "metadata": {
        "id": "2SILkSD_GyND"
      },
      "execution_count": null,
      "outputs": []
    },
    {
      "cell_type": "code",
      "source": [
        "ytrain=ytrain.reshape(-1)"
      ],
      "metadata": {
        "id": "Uld6VCGzG7pp"
      },
      "execution_count": null,
      "outputs": []
    },
    {
      "cell_type": "code",
      "source": [
        "classes=['airplane','automobile','bird','cat','deer','dog','frog','horse','ship','truck']"
      ],
      "metadata": {
        "id": "37NraZSdHDoZ"
      },
      "execution_count": null,
      "outputs": []
    },
    {
      "cell_type": "code",
      "source": [
        "def plotsample(x,y,index):\n",
        "  plt.imshow(x[index])\n",
        "  plt.xlabel(classes[y[index]])"
      ],
      "metadata": {
        "id": "6TEvtTvyHFDu"
      },
      "execution_count": null,
      "outputs": []
    },
    {
      "cell_type": "code",
      "source": [
        "plotsample(xtrain,ytrain,0)"
      ],
      "metadata": {
        "colab": {
          "base_uri": "https://localhost:8080/",
          "height": 449
        },
        "id": "6lUCBZAQIkfn",
        "outputId": "3c3cedbb-1309-4fa8-f63f-25107241bfdf"
      },
      "execution_count": null,
      "outputs": [
        {
          "output_type": "display_data",
          "data": {
            "text/plain": [
              "<Figure size 640x480 with 1 Axes>"
            ],
            "image/png": "[encoded data removed]"
          },
          "metadata": {}
        }
      ]
    },
    {
      "cell_type": "code",
      "source": [
        "xtrain=xtrain/255\n",
        "xtest=xtest/255"
      ],
      "metadata": {
        "id": "prrFQrWJInm-"
      },
      "execution_count": null,
      "outputs": []
    },
    {
      "cell_type": "code",
      "source": [
        "cnn=models.Sequential([\n",
        "    layers.Conv2D(filters=32,kernel_size=(3,3),activation='relu',input_shape=(32,32,3)),\n",
        "    layers.MaxPooling2D(2,2),\n",
        "    layers.Conv2D(filters=32,kernel_size=(3,3),activation='relu'),\n",
        "    layers.MaxPooling2D(2,2),\n",
        "    layers.Flatten(),\n",
        "    layers.Dense(64,activation='relu'),\n",
        "    layers.Dense(10,activation='softmax')\n",
        "])"
      ],
      "metadata": {
        "id": "I1Xw2PU0YNCK"
      },
      "execution_count": null,
      "outputs": []
    },
    {
      "cell_type": "code",
      "source": [
        "cnn.compile(optimizer='adam',loss='sparse_categorical_crossentropy',metrics=['accuracy'])"
      ],
      "metadata": {
        "id": "rYMmJc7VYrcG"
      },
      "execution_count": null,
      "outputs": []
    },
    {
      "cell_type": "code",
      "source": [
        "cnn.fit(xtrain,ytrain,epochs=10)"
      ],
      "metadata": {
        "colab": {
          "base_uri": "https://localhost:8080/"
        },
        "id": "xPwdcIhTZUzg",
        "outputId": "c71c7df4-e9b7-41da-a71a-59dc7decc048"
      },
      "execution_count": null,
      "outputs": [
        {
          "output_type": "stream",
          "name": "stdout",
          "text": [
            "Epoch 1/10\n",
            "1563/1563 [==============================] - 47s 29ms/step - loss: 1.5252 - accuracy: 0.4499\n",
            "Epoch 2/10\n",
            "1563/1563 [==============================] - 43s 27ms/step - loss: 1.2076 - accuracy: 0.5699\n",
            "Epoch 3/10\n",
            "1563/1563 [==============================] - 44s 28ms/step - loss: 1.0734 - accuracy: 0.6226\n",
            "Epoch 4/10\n",
            "1563/1563 [==============================] - 43s 27ms/step - loss: 0.9890 - accuracy: 0.6508\n",
            "Epoch 5/10\n",
            "1563/1563 [==============================] - 43s 27ms/step - loss: 0.9288 - accuracy: 0.6768\n",
            "Epoch 6/10\n",
            "1563/1563 [==============================] - 44s 28ms/step - loss: 0.8801 - accuracy: 0.6910\n",
            "Epoch 7/10\n",
            "1563/1563 [==============================] - 43s 27ms/step - loss: 0.8385 - accuracy: 0.7078\n",
            "Epoch 8/10\n",
            "1563/1563 [==============================] - 44s 28ms/step - loss: 0.8051 - accuracy: 0.7195\n",
            "Epoch 9/10\n",
            "1563/1563 [==============================] - 43s 27ms/step - loss: 0.7646 - accuracy: 0.7326\n",
            "Epoch 10/10\n",
            "1563/1563 [==============================] - 43s 27ms/step - loss: 0.7389 - accuracy: 0.7422\n"
          ]
        },
        {
          "output_type": "execute_result",
          "data": {
            "text/plain": [
              "<keras.src.callbacks.History at 0x7d55f132c220>"
            ]
          },
          "metadata": {},
          "execution_count": 54
        }
      ]
    },
    {
      "cell_type": "code",
      "source": [
        "cnn.evaluate(xtest,ytest)\n"
      ],
      "metadata": {
        "colab": {
          "base_uri": "https://localhost:8080/"
        },
        "id": "SkXSd2w6ZkNl",
        "outputId": "551db5fb-fedb-45c6-8ae1-7d97e6437241"
      },
      "execution_count": null,
      "outputs": [
        {
          "output_type": "stream",
          "name": "stdout",
          "text": [
            "313/313 [==============================] - 3s 9ms/step - loss: 0.9285 - accuracy: 0.6887\n"
          ]
        },
        {
          "output_type": "execute_result",
          "data": {
            "text/plain": [
              "[0.9285396337509155, 0.6887000203132629]"
            ]
          },
          "metadata": {},
          "execution_count": 55
        }
      ]
    },
    {
      "cell_type": "code",
      "source": [
        "ytest=ytest.reshape(-1,)\n",
        "ytest"
      ],
      "metadata": {
        "colab": {
          "base_uri": "https://localhost:8080/"
        },
        "id": "sJhHkgGYbu8d",
        "outputId": "12eab979-b2aa-4181-84e5-6b520533001e"
      },
      "execution_count": null,
      "outputs": [
        {
          "output_type": "execute_result",
          "data": {
            "text/plain": [
              "array([3, 8, 8, ..., 5, 1, 7], dtype=uint8)"
            ]
          },
          "metadata": {},
          "execution_count": 57
        }
      ]
    },
    {
      "cell_type": "code",
      "source": [
        "ytest=[classes[i] for i in ytest]"
      ],
      "metadata": {
        "id": "ggQFzQg1htvu"
      },
      "execution_count": null,
      "outputs": []
    },
    {
      "cell_type": "code",
      "source": [
        "y_pred=cnn.predict(xtest)\n"
      ],
      "metadata": {
        "colab": {
          "base_uri": "https://localhost:8080/"
        },
        "id": "sF_Oi-kndiMa",
        "outputId": "99b50d05-1e06-44d9-919e-e409f9bf5c1a"
      },
      "execution_count": null,
      "outputs": [
        {
          "output_type": "stream",
          "name": "stdout",
          "text": [
            "313/313 [==============================] - 3s 8ms/step\n"
          ]
        }
      ]
    },
    {
      "cell_type": "code",
      "source": [
        "ypred=[classes[np.argmax(i)] for i in y_pred]\n",
        "ypred[:5],ytest[:5]"
      ],
      "metadata": {
        "colab": {
          "base_uri": "https://localhost:8080/"
        },
        "id": "3mrwYInEdp5a",
        "outputId": "9a8e8af8-3051-4364-86ef-ff4654092f5a"
      },
      "execution_count": null,
      "outputs": [
        {
          "output_type": "execute_result",
          "data": {
            "text/plain": [
              "(['cat', 'ship', 'ship', 'airplane', 'frog'],\n",
              " ['cat', 'ship', 'ship', 'airplane', 'frog'])"
            ]
          },
          "metadata": {},
          "execution_count": 60
        }
      ]
    },
    {
      "cell_type": "code",
      "source": [
        "print(classification_report(ytest,ypred))"
      ],
      "metadata": {
        "colab": {
          "base_uri": "https://localhost:8080/"
        },
        "id": "cpWu2gPrd61j",
        "outputId": "2f2f0379-e353-4fdb-b040-cade0710192e"
      },
      "execution_count": null,
      "outputs": [
        {
          "output_type": "stream",
          "name": "stdout",
          "text": [
            "              precision    recall  f1-score   support\n",
            "\n",
            "    airplane       0.75      0.73      0.74      1000\n",
            "  automobile       0.76      0.84      0.80      1000\n",
            "        bird       0.56      0.56      0.56      1000\n",
            "         cat       0.49      0.54      0.51      1000\n",
            "        deer       0.64      0.60      0.62      1000\n",
            "         dog       0.59      0.64      0.61      1000\n",
            "        frog       0.78      0.76      0.77      1000\n",
            "       horse       0.77      0.70      0.73      1000\n",
            "        ship       0.77      0.82      0.80      1000\n",
            "       truck       0.83      0.70      0.76      1000\n",
            "\n",
            "    accuracy                           0.69     10000\n",
            "   macro avg       0.69      0.69      0.69     10000\n",
            "weighted avg       0.69      0.69      0.69     10000\n",
            "\n"
          ]
        }
      ]
    },
    {
      "cell_type": "code",
      "source": [],
      "metadata": {
        "id": "0r2nca5wh5YD"
      },
      "execution_count": null,
      "outputs": []
    }
  ]
}