{
  "nbformat": 4,
  "nbformat_minor": 0,
  "metadata": {
    "colab": {
      "provenance": [],
      "authorship_tag": "ABX9TyMWpnAysm7Si2Spl3YIamxX",
      "include_colab_link": true
    },
    "kernelspec": {
      "name": "python3",
      "display_name": "Python 3"
    },
    "language_info": {
      "name": "python"
    }
  },
  "cells": [
    {
      "cell_type": "markdown",
      "metadata": {
        "id": "view-in-github",
        "colab_type": "text"
      },
      "source": [
        "<a href=\"https://colab.research.google.com/github/ESWAR-CHAVALI/deep-learning-lab/blob/main/experiment1.ipynb\" target=\"_parent\"><img src=\"https://colab.research.google.com/assets/colab-badge.svg\" alt=\"Open In Colab\"/></a>"
      ]
    },
    {
      "cell_type": "code",
      "execution_count": 3,
      "metadata": {
        "colab": {
          "base_uri": "https://localhost:8080/"
        },
        "id": "ek2oKPJiFtAw",
        "outputId": "22ec55ae-2a2f-4908-abc3-0e2fe79ad598"
      },
      "outputs": [
        {
          "output_type": "stream",
          "name": "stdout",
          "text": [
            "1\n"
          ]
        }
      ],
      "source": [
        "import numpy as np\n",
        "import pandas as pd\n",
        "import math\n",
        "X=np.array([0.5,0.6,0.9])\n",
        "W=np.array([0.2,0.3,0.1])\n",
        "b=0.5\n",
        "def stepfunction(t):\n",
        "  if t>0:\n",
        "    return 1\n",
        "  else:\n",
        "    return 0\n",
        "def prediction(X,W,b):\n",
        "  return stepfunction(np.matmul(X,W)+b)\n",
        "print(prediction(X,W,b))"
      ]
    }
  ]
}